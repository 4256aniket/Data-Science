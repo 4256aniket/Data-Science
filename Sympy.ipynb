{
 "cells": [
  {
   "cell_type": "code",
   "execution_count": 2,
   "id": "ff3d650b-5371-41d3-a83d-d01cd397810d",
   "metadata": {},
   "outputs": [
    {
     "name": "stdout",
     "output_type": "stream",
     "text": [
      "30\n"
     ]
    }
   ],
   "source": [
    "from sympy import * \n",
    "i,n = symbols('i n')\n",
    "# iterate each element i from 1 to n, # then multiply and sum\n",
    "summation = Sum(2*i,(i,1,n))\n",
    "# specify n as 5,\n",
    "# iterating the numbers 1 through 5 \n",
    "up_to_5 = summation.subs(n, 5) \n",
    "print(up_to_5.doit()) # 30"
   ]
  },
  {
   "cell_type": "code",
   "execution_count": 3,
   "id": "3cee68ec-1a55-479a-8f58-62c27a095463",
   "metadata": {},
   "outputs": [
    {
     "name": "stdout",
     "output_type": "stream",
     "text": [
      "148.69146179463576\n"
     ]
    }
   ],
   "source": [
    "from math import exp\n",
    "p=100 \n",
    "r=.20 \n",
    "t=2.0 \n",
    "n=12\n",
    "a=p*(1+(r/n))**(n*t)\n",
    "print(a) # prints 148.69146179463576"
   ]
  },
  {
   "cell_type": "code",
   "execution_count": 4,
   "id": "90c5965e-1cb9-424c-b9f2-427739c29be1",
   "metadata": {},
   "outputs": [
    {
     "name": "stdout",
     "output_type": "stream",
     "text": [
      "149.18246976412703\n"
     ]
    }
   ],
   "source": [
    "from math import exp\n",
    "p = 100 # principal, starting amount\n",
    "r = .20 # interest rate, by year\n",
    "t = 2.0 # time, number of years\n",
    "a=p*exp(r*t)\n",
    "print(a) # prints 149.18246976412703"
   ]
  },
  {
   "cell_type": "code",
   "execution_count": 5,
   "id": "dbeda976-6e17-435f-8fd9-914b4a114f95",
   "metadata": {},
   "outputs": [
    {
     "name": "stdout",
     "output_type": "stream",
     "text": [
      "E\n",
      "2.71828182845905\n"
     ]
    }
   ],
   "source": [
    "from sympy import *\n",
    "n = symbols('n')\n",
    "f = (1 + (1/n))**n\n",
    "result = limit(f, n, oo)\n",
    "print(result) # E\n",
    "print(result.evalf()) # 2.71828182845905"
   ]
  },
  {
   "cell_type": "code",
   "execution_count": 7,
   "id": "2dc83353-7c12-440f-95bc-4637d8277db3",
   "metadata": {},
   "outputs": [
    {
     "name": "stdout",
     "output_type": "stream",
     "text": [
      "2*x\n"
     ]
    }
   ],
   "source": [
    "from sympy import *\n",
    "# Declare 'x' to SymPy\n",
    "x = symbols('x')\n",
    "# Now just use Python syntax to declare function\n",
    "f=x**2\n",
    "# Calculate the derivative of the function\n",
    "dx_f = diff(f) \n",
    "print(dx_f) # prints 2*x"
   ]
  },
  {
   "cell_type": "code",
   "execution_count": 8,
   "id": "6eb39632-6582-49d5-aa9a-be1972d74611",
   "metadata": {},
   "outputs": [
    {
     "name": "stdout",
     "output_type": "stream",
     "text": [
      "4/3\n"
     ]
    }
   ],
   "source": [
    "from sympy import *\n",
    "# Declare 'x' to SymPy\n",
    "x = symbols('x')\n",
    "# Now just use Python syntax to declare function\n",
    "f=x**2+1\n",
    "# Calculate the integral of the function with respect to x # for the area between x = 0 and 1\n",
    "area = integrate(f, (x, 0, 1))\n",
    "print(area) # prints 4/3"
   ]
  },
  {
   "cell_type": "code",
   "execution_count": 2,
   "id": "e6783eae-a35b-44ff-bfbb-d160df92fa64",
   "metadata": {},
   "outputs": [
    {
     "name": "stdout",
     "output_type": "stream",
     "text": [
      "\\frac{x^{2}}{\\sqrt{2 y^{3} - 1}}\n"
     ]
    }
   ],
   "source": [
    "from sympy import *\n",
    "x,y = symbols('x y')\n",
    "z = x**2 / sqrt(2*y**3 - 1)\n",
    "print(latex(z))"
   ]
  },
  {
   "cell_type": "markdown",
   "id": "61d7a196-d5ce-4667-9e9d-0906814df431",
   "metadata": {},
   "source": []
  },
  {
   "cell_type": "code",
   "execution_count": null,
   "id": "484f2bea-f7aa-44cc-99cc-f85e7cf83b4e",
   "metadata": {},
   "outputs": [],
   "source": []
  },
  {
   "cell_type": "code",
   "execution_count": null,
   "id": "99c9c79b-b9fe-4472-bfe7-d1229b97bffa",
   "metadata": {},
   "outputs": [],
   "source": []
  },
  {
   "cell_type": "code",
   "execution_count": null,
   "id": "49e68d28-74c8-44fa-8bf9-89c3d4554da4",
   "metadata": {},
   "outputs": [],
   "source": []
  },
  {
   "cell_type": "code",
   "execution_count": null,
   "id": "a89195d4-283a-4549-8f1c-c8cd5db8e307",
   "metadata": {},
   "outputs": [],
   "source": []
  },
  {
   "cell_type": "code",
   "execution_count": null,
   "id": "f821ca10-5b18-4d1c-9fba-f484d3e0f049",
   "metadata": {},
   "outputs": [],
   "source": []
  },
  {
   "cell_type": "code",
   "execution_count": null,
   "id": "325486a6-65b8-43c4-aa68-809a38cd29ab",
   "metadata": {},
   "outputs": [],
   "source": []
  },
  {
   "cell_type": "code",
   "execution_count": null,
   "id": "bcb87059-50c0-4ab5-8765-1a1bee59b73b",
   "metadata": {},
   "outputs": [],
   "source": []
  }
 ],
 "metadata": {
  "kernelspec": {
   "display_name": "Python 3 (ipykernel)",
   "language": "python",
   "name": "python3"
  },
  "language_info": {
   "codemirror_mode": {
    "name": "ipython",
    "version": 3
   },
   "file_extension": ".py",
   "mimetype": "text/x-python",
   "name": "python",
   "nbconvert_exporter": "python",
   "pygments_lexer": "ipython3",
   "version": "3.12.2"
  }
 },
 "nbformat": 4,
 "nbformat_minor": 5
}

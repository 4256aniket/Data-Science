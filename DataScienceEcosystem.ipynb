{
  "nbformat": 4,
  "nbformat_minor": 0,
  "metadata": {
    "colab": {
      "provenance": [],
      "authorship_tag": "ABX9TyMdJZH1qKl13A24AxScecxZ"
    },
    "kernelspec": {
      "name": "python3",
      "display_name": "Python 3"
    },
    "language_info": {
      "name": "python"
    }
  },
  "cells": [
    {
      "cell_type": "code",
      "execution_count": null,
      "metadata": {
        "id": "hCZjs7IBdtXX"
      },
      "outputs": [],
      "source": []
    },
    {
      "cell_type": "markdown",
      "source": [
        "# Data Science Tools and Ecosystem\n"
      ],
      "metadata": {
        "id": "V1hdqWhtd532"
      }
    },
    {
      "cell_type": "markdown",
      "source": [
        "In this notebook, Data Science Tools and Ecosystem are summarized."
      ],
      "metadata": {
        "id": "K3nnl0VHeQeM"
      }
    },
    {
      "cell_type": "markdown",
      "source": [
        "Some of the popular languages that Data Scientists use are:\n",
        "1. python\n",
        "2. R\n",
        "3. Julia\n",
        "4. Scala\n",
        "5. Java"
      ],
      "metadata": {
        "id": "2C70gttFe03L"
      }
    },
    {
      "cell_type": "markdown",
      "source": [
        "Some of the commonly used libraries used by Data Scientists include:\n",
        "1. Numpy\n",
        "2. Pandas\n",
        "3. Matplotlib\n",
        "4. Seaborn\n",
        "5. Scikit-learn\n",
        "6. TensorFlow\n",
        "7. PyTorch\n",
        "8. Keras"
      ],
      "metadata": {
        "id": "Bc2dLEGMe5Pv"
      }
    },
    {
      "cell_type": "markdown",
      "source": [
        "### Below are a few examples of evaluating arithmetic expressions in Python\n",
        "\n",
        "```\n",
        "3+4\n",
        "```\n",
        "```\n",
        "(5*6) + (6+1)\n",
        "```"
      ],
      "metadata": {
        "id": "Uwh3nD0vfXjH"
      }
    },
    {
      "cell_type": "code",
      "source": [
        "#  This a simple arithmetic expression to mutiply then add integers\n",
        "(3*4)+5"
      ],
      "metadata": {
        "colab": {
          "base_uri": "https://localhost:8080/"
        },
        "id": "WMV0EwVad7F1",
        "outputId": "0d3d9629-001f-4e40-d286-cdb89939b808"
      },
      "execution_count": 2,
      "outputs": [
        {
          "output_type": "execute_result",
          "data": {
            "text/plain": [
              "17"
            ]
          },
          "metadata": {},
          "execution_count": 2
        }
      ]
    },
    {
      "cell_type": "code",
      "source": [
        "# This will convert 200 minutes to hours by diving by 60\n",
        "min = 200\n",
        "hrs = min/60\n",
        "hrs"
      ],
      "metadata": {
        "colab": {
          "base_uri": "https://localhost:8080/"
        },
        "id": "C5V3Quzzftw7",
        "outputId": "0727fa38-be99-4825-d615-3cccac9fe79b"
      },
      "execution_count": 3,
      "outputs": [
        {
          "output_type": "execute_result",
          "data": {
            "text/plain": [
              "3.3333333333333335"
            ]
          },
          "metadata": {},
          "execution_count": 3
        }
      ]
    },
    {
      "cell_type": "markdown",
      "source": [
        "**Objectives**\n",
        "- List popular languages for Data Science\n",
        "- List of popular libraries used by Data Scientists"
      ],
      "metadata": {
        "id": "933UF0rCf-gt"
      }
    },
    {
      "cell_type": "markdown",
      "source": [
        "## Author\n",
        "Anikt Kumar"
      ],
      "metadata": {
        "id": "sv8li40ghnGY"
      }
    },
    {
      "cell_type": "code",
      "source": [],
      "metadata": {
        "id": "Eu6tyFc4huuJ"
      },
      "execution_count": null,
      "outputs": []
    }
  ]
}
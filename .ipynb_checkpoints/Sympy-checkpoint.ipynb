{
 "cells": [
  {
   "cell_type": "code",
   "execution_count": 1,
   "id": "ff3d650b-5371-41d3-a83d-d01cd397810d",
   "metadata": {},
   "outputs": [],
   "source": [
    "from sympy import * \n",
    "i,n = symbols('i n')\n",
    "# iterate each element i from 1 to n, # then multiply and sum\n",
    "summation = Sum(2*i,(i,1,n))\n",
    "# specify n as 5,\n",
    "# iterating the numbers 1 through 5 \n",
    "up_to_5 = summation.subs(n, 5) \n",
    "print(up_to_5.doit()) # 30"
   ]
  },
  {
   "cell_type": "code",
   "execution_count": null,
   "id": "3cee68ec-1a55-479a-8f58-62c27a095463",
   "metadata": {},
   "outputs": [],
   "source": []
  }
 ],
 "metadata": {
  "kernelspec": {
   "display_name": "Python 3 (ipykernel)",
   "language": "python",
   "name": "python3"
  },
  "language_info": {
   "codemirror_mode": {
    "name": "ipython",
    "version": 3
   },
   "file_extension": ".py",
   "mimetype": "text/x-python",
   "name": "python",
   "nbconvert_exporter": "python",
   "pygments_lexer": "ipython3",
   "version": "3.12.2"
  }
 },
 "nbformat": 4,
 "nbformat_minor": 5
}

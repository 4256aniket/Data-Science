{
 "cells": [
  {
   "cell_type": "markdown",
   "metadata": {},
   "source": [
    "### PMF for Binomial Distribution\n",
    "$$P(X = k) = \\binom{n}{k} \\cdot p^k \\cdot (1 - p)^{n - k}$$\n",
    "- $P(X=k)$ is the probability of getting exactly k successes in n trials,\n",
    "- $\\binom{n}{k}$ is the binomial coefficient (number of ways to choose k successes out of n trials)\n",
    "- $p$ is the probability of success in a single trial, and\n",
    "- $(1−p)$ is the probability of failure in a single trial."
   ]
  },
  {
   "cell_type": "code",
   "execution_count": 2,
   "metadata": {},
   "outputs": [
    {
     "name": "stdout",
     "output_type": "stream",
     "text": [
      "0 - 9.999999999999977e-11\n",
      "1 - 8.999999999999978e-09\n",
      "2 - 3.6449999999999943e-07\n",
      "3 - 8.747999999999991e-06\n",
      "4 - 0.00013778099999999974\n",
      "5 - 0.0014880347999999982\n",
      "6 - 0.011160260999999996\n",
      "7 - 0.05739562799999997\n",
      "8 - 0.1937102444999998\n",
      "9 - 0.38742048899999976\n",
      "10 - 0.3486784401000001\n"
     ]
    }
   ],
   "source": [
    "from scipy.stats import binom \n",
    "n=10\n",
    "p=0.9\n",
    "for k in range(n + 1):\n",
    "    probability = binom.pmf(k, n, p) \n",
    "    print(f\"{k} - {probability}\")"
   ]
  },
  {
   "cell_type": "markdown",
   "metadata": {},
   "source": [
    "### PMF for Beta Distribution\n",
    "The beta distribution allows us to see the likelihood of different underlying probabilities for an event to occur given alpha successes and beta failures.\n",
    "$$f(x; a, b) = \\frac{x^{a - 1} \\cdot (1 - x)^{b - 1}}{\\mathrm{B}(a, b)}$$\n",
    "- $f(x;a,b)$ represents the probability density function.\n",
    "- $a$ and $b$ are successes and failures respectively.\n",
    "- $x$ is the random variable ranging between 0 and 1.\n",
    "- $B(a,b)$ denotes the beta function, which is the normalization constant ensuring that the integral of the PDF over the entire range of x is equal to 1."
   ]
  },
  {
   "cell_type": "code",
   "execution_count": 3,
   "metadata": {},
   "outputs": [
    {
     "name": "stdout",
     "output_type": "stream",
     "text": [
      "0.7748409780000002\n"
     ]
    }
   ],
   "source": [
    "from scipy.stats import beta \n",
    "a=8\n",
    "b=2\n",
    "# chance of probability of success is 90% or less, for 8 successes and 2 failures\n",
    "p = beta.cdf(.90, a, b)\n",
    "# 0.7748409780000001\n",
    "print(p)"
   ]
  },
  {
   "cell_type": "code",
   "execution_count": 4,
   "metadata": {},
   "outputs": [
    {
     "name": "stdout",
     "output_type": "stream",
     "text": [
      "0.22515902199999982\n"
     ]
    }
   ],
   "source": [
    "from scipy.stats import beta \n",
    "a=8\n",
    "b=2\n",
    "# chances of probability of success is 90% or more, for 8 successes and 2 failures\n",
    "p = 1.0 - beta.cdf(.90, a, b)\n",
    "# 0.22515902199999993\n",
    "print(p)"
   ]
  },
  {
   "cell_type": "code",
   "execution_count": 5,
   "metadata": {},
   "outputs": [
    {
     "name": "stdout",
     "output_type": "stream",
     "text": [
      "0.13163577484183697\n"
     ]
    }
   ],
   "source": [
    "from scipy.stats import beta \n",
    "a=30\n",
    "b=6\n",
    "# we are increasing number of trials from 10 to 36\n",
    "p = 1.0 - beta.cdf(.90, a, b)\n",
    "# 0.13163577484183708\n",
    "print(p)"
   ]
  },
  {
   "cell_type": "code",
   "execution_count": 6,
   "metadata": {},
   "outputs": [
    {
     "name": "stdout",
     "output_type": "stream",
     "text": [
      "0.33863336199999994\n"
     ]
    }
   ],
   "source": [
    "from scipy.stats import beta \n",
    "a=8\n",
    "b=2\n",
    "# finding chances of probability of success between 80% and 90%\n",
    "p = beta.cdf(.90, a, b) - beta.cdf(.80, a, b)\n",
    "# 0.33863336200000016\n",
    "print(p)"
   ]
  },
  {
   "cell_type": "code",
   "execution_count": null,
   "metadata": {},
   "outputs": [],
   "source": []
  },
  {
   "cell_type": "code",
   "execution_count": null,
   "metadata": {},
   "outputs": [],
   "source": []
  },
  {
   "cell_type": "code",
   "execution_count": null,
   "metadata": {},
   "outputs": [],
   "source": []
  },
  {
   "cell_type": "code",
   "execution_count": null,
   "metadata": {},
   "outputs": [],
   "source": []
  }
 ],
 "metadata": {
  "kernelspec": {
   "display_name": "Python 3 (ipykernel)",
   "language": "python",
   "name": "python3"
  },
  "language_info": {
   "codemirror_mode": {
    "name": "ipython",
    "version": 3
   },
   "file_extension": ".py",
   "mimetype": "text/x-python",
   "name": "python",
   "nbconvert_exporter": "python",
   "pygments_lexer": "ipython3",
   "version": "3.11.8"
  }
 },
 "nbformat": 4,
 "nbformat_minor": 4
}

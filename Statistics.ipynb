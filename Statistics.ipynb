{
 "cells": [
  {
   "cell_type": "code",
   "execution_count": 1,
   "id": "66eb5f2f-8085-4f8c-b17c-5b7c3579086c",
   "metadata": {},
   "outputs": [
    {
     "name": "stdout",
     "output_type": "stream",
     "text": [
      "this is statistics file\n"
     ]
    }
   ],
   "source": [
    "print(\"this is statistics file\")"
   ]
  },
  {
   "cell_type": "markdown",
   "id": "f5ee260e-d97b-42f5-a792-1099f906a20b",
   "metadata": {},
   "source": [
    "$\\sum_{i = 0, }$"
   ]
  },
  {
   "cell_type": "code",
   "execution_count": null,
   "id": "c4cc9449-b5ad-4af1-a139-fa2452e120fd",
   "metadata": {},
   "outputs": [],
   "source": []
  }
 ],
 "metadata": {
  "kernelspec": {
   "display_name": "Python 3 (ipykernel)",
   "language": "python",
   "name": "python3"
  },
  "language_info": {
   "codemirror_mode": {
    "name": "ipython",
    "version": 3
   },
   "file_extension": ".py",
   "mimetype": "text/x-python",
   "name": "python",
   "nbconvert_exporter": "python",
   "pygments_lexer": "ipython3",
   "version": "3.11.8"
  }
 },
 "nbformat": 4,
 "nbformat_minor": 5
}
